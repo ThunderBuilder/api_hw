{
 "cells": [
  {
   "cell_type": "code",
   "execution_count": null,
   "id": "d5d6f447-8d71-4980-a38f-4926bc7bd750",
   "metadata": {},
   "outputs": [],
   "source": [
    "# Import json\n",
    "import json\n",
    "import requests\n",
    "import os\n",
    "import pandas as pd\n",
    "from dotenv import load_dotenv\n",
    "import alpaca_trade_api as tradeapi\n",
    "import pytz\n",
    "from MCForecastTools import MCSimulation\n",
    "%matplotlib inline"
   ]
  },
  {
   "cell_type": "code",
   "execution_count": null,
   "id": "69367fa5-1789-4bc2-a8d8-830121336e34",
   "metadata": {},
   "outputs": [],
   "source": [
    "# Load environment variable \n",
    "load_dotenv()"
   ]
  },
  {
   "cell_type": "code",
   "execution_count": null,
   "id": "8ec107dc-4e10-487e-ba39-5eb881e07c4b",
   "metadata": {
    "tags": []
   },
   "outputs": [],
   "source": [
    "# Fetch Bitcoin url\n",
    "url_btc = 'https://api.alternative.me/v1/ticker/bitcoin/'\n",
    "url_btc"
   ]
  },
  {
   "cell_type": "code",
   "execution_count": null,
   "id": "738862f7-99ef-42b1-82b0-a8bda80591d3",
   "metadata": {
    "tags": []
   },
   "outputs": [],
   "source": [
    "# Fetch Eth url\n",
    "url_eth = 'https://api.alternative.me/v1/ticker/ethereum/'\n",
    "url_eth"
   ]
  },
  {
   "cell_type": "code",
   "execution_count": null,
   "id": "09c5244c-946c-4e3c-b62d-2166f722a105",
   "metadata": {},
   "outputs": [],
   "source": [
    "# Add format specifier to request url\n",
    "url_btc = url_btc + \"?format-json\" \n",
    "url_eth = url_eth + \"?format-json\" "
   ]
  },
  {
   "cell_type": "code",
   "execution_count": null,
   "id": "95b695fd-18d5-4170-92bb-57f062d58a75",
   "metadata": {},
   "outputs": [],
   "source": [
    "# Exicute GET request & Index JSON\n",
    "my_btc = requests.get(url_btc).json()[0]['price_usd']\n",
    "my_btc"
   ]
  },
  {
   "cell_type": "code",
   "execution_count": null,
   "id": "dc83bc5a-515f-47ad-ab0d-dd9cd636770e",
   "metadata": {
    "tags": []
   },
   "outputs": [],
   "source": [
    "# Exicute GET requests & Index JSON\n",
    "my_eth = requests.get(url_eth).json()[0]['price_usd']\n",
    "my_eth"
   ]
  },
  {
   "cell_type": "code",
   "execution_count": null,
   "id": "96464d06-6df2-4492-86e8-6f36cb30db44",
   "metadata": {},
   "outputs": [],
   "source": [
    "# Print current Bitcoin wallet balance\n",
    "print(f\"The current value of your BTC is ${my_btc}\")"
   ]
  },
  {
   "cell_type": "code",
   "execution_count": null,
   "id": "fe61e7be-4858-4db3-9ac0-5aef8fec93cd",
   "metadata": {},
   "outputs": [],
   "source": [
    "# Print current Ethereum wallet balance\n",
    "print(f\"The current value of your ETH is ${my_eth}\")"
   ]
  },
  {
   "cell_type": "code",
   "execution_count": null,
   "id": "83e87cd2-f2a6-4858-a8de-0aed98fc86ae",
   "metadata": {},
   "outputs": [],
   "source": [
    "alpaca_api_key = os.getenv(\"ALPACA_API_KEY\")\n",
    "alpaca_secret_key = os.getenv(\"ALPACA_SECRET_KEY\")"
   ]
  },
  {
   "cell_type": "code",
   "execution_count": null,
   "id": "256db5d0-80b4-4b0e-b541-be44fa664c3d",
   "metadata": {},
   "outputs": [],
   "source": [
    "# Set Alpaca API key and secret\n",
    "api = tradeapi.REST(\n",
    "    alpaca_api_key,\n",
    "    alpaca_secret_key,\n",
    "    api_version = \"v2\")"
   ]
  },
  {
   "cell_type": "code",
   "execution_count": null,
   "id": "ec10cb53-6c99-4dd3-9951-faa5070ef9dd",
   "metadata": {},
   "outputs": [],
   "source": [
    "# Set timeframe to '1D' for Alpaca API\n",
    "timeframe = \"1D\"\n",
    "\n",
    "start_date = pd.Timestamp(\"2015-05-01\", tz=\"America/New_York\").isoformat()\n",
    "end_date = pd.Timestamp(\"2020-05-01\", tz=\"America/New_York\").isoformat()\n",
    "\n",
    "tickers = [\"AGG\", \"SPY\"]\n",
    "\n",
    "df_ticker = api.get_barset(\n",
    "    tickers,\n",
    "    timeframe,\n",
    "    start=start_date,\n",
    "    end=end_date,\n",
    "    limit=1000\n",
    ").df"
   ]
  },
  {
   "cell_type": "code",
   "execution_count": null,
   "id": "fa157f17-95dc-499d-9b9e-efc0cb3bb9cd",
   "metadata": {
    "jupyter": {
     "source_hidden": true
    },
    "tags": []
   },
   "outputs": [],
   "source": [
    "df_ticker.head()"
   ]
  },
  {
   "cell_type": "markdown",
   "id": "e3a89db9-2cea-447a-8204-66828c6f810b",
   "metadata": {},
   "source": [
    "### Simulate five year portfolio growth with evenly-distributed stock investments"
   ]
  },
  {
   "cell_type": "code",
   "execution_count": null,
   "id": "2e425cf3-9952-4bb8-89ce-c7d7ac60ae41",
   "metadata": {},
   "outputs": [],
   "source": [
    "# Configure a Monte Carlo simulation to forecast five years cumulative returns\n",
    "MC_even_dist = MCSimulation(\n",
    "    portfolio_data = df_ticker,\n",
    "    weights = [.5,.5],\n",
    "    num_simulation = 1000,\n",
    "    num_trading_days = 252*30)\n",
    "MC_even_dist.portfolio_data.tail()"
   ]
  },
  {
   "cell_type": "code",
   "execution_count": null,
   "id": "2b9d75f9-2e1c-43a5-909c-16808093a2ba",
   "metadata": {
    "tags": []
   },
   "outputs": [],
   "source": [
    "# Run a Monte Carlo simulation to forecast five years cumulative returns\n",
    "MC_even_dist.calc_cumulative_return()"
   ]
  },
  {
   "cell_type": "code",
   "execution_count": null,
   "id": "d754d5a5-ba80-468a-9282-29ddf1a03967",
   "metadata": {},
   "outputs": [],
   "source": [
    "# Plot simulation outcomes\n",
    "line_plot = MC_even_dist.plot_simulation()"
   ]
  },
  {
   "cell_type": "code",
   "execution_count": null,
   "id": "fa2bc32f-b568-4e0e-aeb7-5636882552dd",
   "metadata": {},
   "outputs": [],
   "source": [
    "# Fetch summary statistics from the Monte Carlo simulation results\n",
    "even_tbl = MC_even_dist.summarize_cumulative_return()"
   ]
  },
  {
   "cell_type": "code",
   "execution_count": null,
   "id": "25bc6b2e-d678-4ba0-9db6-035b9ff13eb1",
   "metadata": {},
   "outputs": [],
   "source": [
    "even_tbl"
   ]
  },
  {
   "cell_type": "code",
   "execution_count": null,
   "id": "39ff2c93-78a5-455b-9b9e-aa76f9a82d87",
   "metadata": {},
   "outputs": [],
   "source": [
    "# Plot probability distribution and confidence intervals\n",
    "dist_plot = MC_even_dist.plot_distribution()"
   ]
  },
  {
   "cell_type": "code",
   "execution_count": null,
   "id": "2fe4a6f8-27ef-466f-a1f8-74ed3a61b3b4",
   "metadata": {},
   "outputs": [],
   "source": []
  }
 ],
 "metadata": {
  "kernelspec": {
   "display_name": "Python 3",
   "language": "python",
   "name": "python3"
  },
  "language_info": {
   "codemirror_mode": {
    "name": "ipython",
    "version": 3
   },
   "file_extension": ".py",
   "mimetype": "text/x-python",
   "name": "python",
   "nbconvert_exporter": "python",
   "pygments_lexer": "ipython3",
   "version": "3.7.10"
  }
 },
 "nbformat": 4,
 "nbformat_minor": 5
}
